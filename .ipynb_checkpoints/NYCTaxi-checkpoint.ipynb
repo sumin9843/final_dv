{
  "cells": [
    {
      "cell_type": "raw",
      "metadata": {},
      "source": [
        "---\n",
        "title: \"NYCTaxi\"\n",
        "author: \"최규빈(2021-43052)\"\n",
        "format: dashboard\n",
        "execute: \n",
        "  enabled: true\n",
        "  cache: false\n",
        "  freeze: false\n",
        "---"
      ],
      "id": "03e26f79"
    },
    {
      "cell_type": "code",
      "metadata": {},
      "source": [
        "#| output: false\n",
        "# 여기에 온갖코드를 넣음.\n",
        "# 1-(1),(2),(3) 에 대응하는 plotly figure를 아래와 같은 이름으로 저장\n",
        "# fig1 = ...\n",
        "# fig2 = ...\n",
        "# fig3 = ..."
      ],
      "id": "d44fa4d5",
      "execution_count": null,
      "outputs": []
    },
    {
      "cell_type": "markdown",
      "metadata": {},
      "source": [
        "# 기말고사1-(1),(2)\n"
      ],
      "id": "600b49c2"
    },
    {
      "cell_type": "code",
      "metadata": {
        "title": "요일,시간에 따른 평균속력 시각화"
      },
      "source": [
        "fig1.show()"
      ],
      "id": "fc82e764",
      "execution_count": null,
      "outputs": []
    },
    {
      "cell_type": "code",
      "metadata": {
        "title": "요일,시간에 따른 평균이동거리 시각화"
      },
      "source": [
        "fig2.show()"
      ],
      "id": "9d471e6a",
      "execution_count": null,
      "outputs": []
    },
    {
      "cell_type": "markdown",
      "metadata": {},
      "source": [
        "# 기말고사1-(3)\n"
      ],
      "id": "1c32c7f0"
    },
    {
      "cell_type": "code",
      "metadata": {
        "title": "속력별 경로 시각화"
      },
      "source": [
        "fig3.show()"
      ],
      "id": "cdd84960",
      "execution_count": null,
      "outputs": []
    }
  ],
  "metadata": {
    "kernelspec": {
      "name": "python3",
      "language": "python",
      "display_name": "Python 3 (ipykernel)"
    }
  },
  "nbformat": 4,
  "nbformat_minor": 5
}